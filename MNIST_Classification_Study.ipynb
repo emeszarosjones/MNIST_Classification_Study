{
 "cells": [
  {
   "cell_type": "markdown",
   "metadata": {},
   "source": [
    "The task presented was to, using the MNIST data set, use data transformations and classification algorithms (excluding KNN) to achieve 95% accuracy in cross-validation (cv = 3). The code was also required to be able to conclude running in less than 30 minutes."
   ]
  },
  {
   "cell_type": "code",
   "execution_count": 52,
   "metadata": {},
   "outputs": [
    {
     "name": "stdout",
     "output_type": "stream",
     "text": [
      "0, 0.9915000254252857\n",
      "1, 0.9941428009566274\n",
      "2, 0.9802141987714856\n",
      "3, 0.9737142803436396\n",
      "4, 0.9795716324591718\n",
      "5, 0.9792856477430597\n",
      "6, 0.989428729495257\n",
      "7, 0.982785749826883\n",
      "8, 0.9685716527565403\n",
      "9, 0.9747140099263621\n",
      "mean digit: 0.9813928727704313\n",
      "combined prediction: 0.9667857142857142\n",
      "Time taken: 513.8341355323792\n"
     ]
    }
   ],
   "source": [
    "import numpy as np\n",
    "from sklearn.model_selection import cross_val_score\n",
    "from sklearn.datasets import fetch_openml\n",
    "from sklearn.model_selection import train_test_split\n",
    "from sklearn.ensemble import RandomForestClassifier\n",
    "from sklearn.metrics import accuracy_score\n",
    "import time\n",
    "\n",
    "t0 = time.time()\n",
    "\n",
    "mnist = fetch_openml('mnist_784', version = 1)\n",
    "X = mnist.data\n",
    "y = mnist.target\n",
    "\n",
    "rnd_clf = RandomForestClassifier(random_state=42)\n",
    "\n",
    "scores_list_vote = np.zeros(shape=(10,1))\n",
    "y_prob = np.zeros(shape=(14000,10))\n",
    "y_pred2 = np.empty([14000,1], dtype=str)\n",
    "digit = np.zeros(70000)\n",
    "\n",
    "digitn = [0,1,2,3,4,5,6,7,8,9]   \n",
    "for i in range(0,10):\n",
    "    mnist[\"digit\" + str(digitn[i])] = digit\n",
    "\n",
    "for i in range(0,10):\n",
    "    \n",
    "    current = 'digit' + str(i)\n",
    "    \n",
    "    for j in range(0,70000):\n",
    "        mnist[current][j] = 0\n",
    "        if mnist.target[j] == str(i):\n",
    "            mnist[current][j] = 1\n",
    "        \n",
    "    y = mnist.target\n",
    "    y1 = mnist[current]\n",
    "    X_train, X_test, y_train, y_test = train_test_split(X, y1, test_size=0.2, random_state=42)\n",
    "    X_train1, X_test1, y_train1, y_test1 = train_test_split(X, y, test_size=.2, random_state=42)\n",
    "    \n",
    "    rnd_clf.fit(X_train, y_train)\n",
    "    y_pred1 = rnd_clf.predict(X_test)\n",
    "    y_prob[:,i] = rnd_clf.predict_proba(X_test)[:,1]\n",
    "    print(str(i) + \", \" + str(np.mean(cross_val_score(rnd_clf, X_test, y_test, cv=3, scoring=\"accuracy\"))))\n",
    "        \n",
    "    scores_list_vote[i] = np.mean(cross_val_score(rnd_clf, X_test, y_test, cv=3, scoring=\"accuracy\"))\n",
    "    \n",
    "print('mean digit: ' + str(np.mean(scores_list_vote)))\n",
    "    \n",
    "for n in range(0,14000):\n",
    "    for i in range(0,10):\n",
    "        if y_prob[n,i] == np.max(y_prob[n,:]):\n",
    "            y_pred2[n] = str(i)\n",
    "            \n",
    "print(\"combined prediction: \" + str(accuracy_score(y_test1, y_pred2)))\n",
    "    \n",
    "t1 = time.time()\n",
    "\n",
    "t_taken = t1-t0\n",
    "print('Time taken: ' + str(t_taken))"
   ]
  },
  {
   "cell_type": "code",
   "execution_count": 53,
   "metadata": {},
   "outputs": [
    {
     "data": {
      "text/plain": [
       "array([0., 0., 0., ..., 0., 0., 0.])"
      ]
     },
     "execution_count": 53,
     "metadata": {},
     "output_type": "execute_result"
    }
   ],
   "source": [
    "y_pred1"
   ]
  },
  {
   "cell_type": "code",
   "execution_count": 54,
   "metadata": {},
   "outputs": [
    {
     "data": {
      "text/plain": [
       "array([[0.  , 0.  , 0.03, ..., 0.01, 0.96, 0.  ],\n",
       "       [0.  , 0.  , 0.  , ..., 0.07, 0.02, 0.04],\n",
       "       [0.03, 0.  , 0.05, ..., 0.  , 0.34, 0.09],\n",
       "       ...,\n",
       "       [0.  , 0.03, 0.95, ..., 0.  , 0.05, 0.  ],\n",
       "       [0.  , 0.01, 0.  , ..., 0.99, 0.01, 0.12],\n",
       "       [0.  , 1.  , 0.  , ..., 0.01, 0.  , 0.  ]])"
      ]
     },
     "execution_count": 54,
     "metadata": {},
     "output_type": "execute_result"
    }
   ],
   "source": [
    "y_prob"
   ]
  }
 ],
 "metadata": {
  "kernelspec": {
   "display_name": "Python 3",
   "language": "python",
   "name": "python3"
  },
  "language_info": {
   "codemirror_mode": {
    "name": "ipython",
    "version": 3
   },
   "file_extension": ".py",
   "mimetype": "text/x-python",
   "name": "python",
   "nbconvert_exporter": "python",
   "pygments_lexer": "ipython3",
   "version": "3.7.6"
  }
 },
 "nbformat": 4,
 "nbformat_minor": 2
}
